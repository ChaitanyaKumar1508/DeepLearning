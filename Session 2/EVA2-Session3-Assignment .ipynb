{
 "cells": [
  {
   "cell_type": "markdown",
   "metadata": {
    "colab_type": "text",
    "id": "aNyZv-Ec52ot"
   },
   "source": [
    "# **Import Libraries and modules**"
   ]
  },
  {
   "cell_type": "code",
   "execution_count": 1,
   "metadata": {
    "colab": {
     "base_uri": "https://localhost:8080/",
     "height": 34
    },
    "colab_type": "code",
    "id": "3m3w1Cw49Zkt",
    "outputId": "0001b78c-9bb1-4208-baa9-2e94474499d6"
   },
   "outputs": [
    {
     "name": "stderr",
     "output_type": "stream",
     "text": [
      "Using TensorFlow backend.\n"
     ]
    }
   ],
   "source": [
    "# https://keras.io/\n",
    "!pip install -q keras\n",
    "import keras"
   ]
  },
  {
   "cell_type": "markdown",
   "metadata": {},
   "source": [
    "# Importing Different different classes in keras for building CNN"
   ]
  },
  {
   "cell_type": "code",
   "execution_count": 0,
   "metadata": {
    "colab": {},
    "colab_type": "code",
    "id": "Eso6UHE080D4"
   },
   "outputs": [],
   "source": [
    "import numpy as np\n",
    "\n",
    "from keras.models import Sequential\n",
    "from keras.layers import Dense, Dropout, Activation, Flatten, Add\n",
    "from keras.layers import Convolution2D, MaxPooling2D\n",
    "from keras.utils import np_utils\n",
    "\n",
    "from keras.datasets import mnist"
   ]
  },
  {
   "cell_type": "markdown",
   "metadata": {
    "colab_type": "text",
    "id": "zByEi95J86RD"
   },
   "source": [
    "### Load pre-shuffled MNIST data into train and test sets"
   ]
  },
  {
   "cell_type": "code",
   "execution_count": 3,
   "metadata": {
    "colab": {
     "base_uri": "https://localhost:8080/",
     "height": 51
    },
    "colab_type": "code",
    "id": "7eRM0QWN83PV",
    "outputId": "10af7728-095f-473c-b38f-34c043be07a8"
   },
   "outputs": [
    {
     "name": "stdout",
     "output_type": "stream",
     "text": [
      "Downloading data from https://s3.amazonaws.com/img-datasets/mnist.npz\n",
      "11493376/11490434 [==============================] - 0s 0us/step\n"
     ]
    }
   ],
   "source": [
    "(X_train, y_train), (X_test, y_test) = mnist.load_data()"
   ]
  },
  {
   "cell_type": "markdown",
   "metadata": {},
   "source": [
    "### Importing matplotlib and plotting a sample image from train dataset"
   ]
  },
  {
   "cell_type": "code",
   "execution_count": 4,
   "metadata": {
    "colab": {
     "base_uri": "https://localhost:8080/",
     "height": 303
    },
    "colab_type": "code",
    "id": "4a4Be72j8-ZC",
    "outputId": "5f1062f0-5fca-40ce-c02e-97fa39d8b326"
   },
   "outputs": [
    {
     "name": "stdout",
     "output_type": "stream",
     "text": [
      "(60000, 28, 28)\n"
     ]
    },
    {
     "data": {
      "text/plain": [
       "<matplotlib.image.AxesImage at 0x7fcf2d3a3e48>"
      ]
     },
     "execution_count": 4,
     "metadata": {
      "tags": []
     },
     "output_type": "execute_result"
    },
    {
     "data": {
      "image/png": "[encoded data removed]",
      "text/plain": [
       "<Figure size 432x288 with 1 Axes>"
      ]
     },
     "metadata": {
      "tags": []
     },
     "output_type": "display_data"
    }
   ],
   "source": [
    "print (X_train.shape)\n",
    "from matplotlib import pyplot as plt\n",
    "%matplotlib inline\n",
    "plt.imshow(X_train[0])"
   ]
  },
  {
   "cell_type": "markdown",
   "metadata": {},
   "source": [
    "### Changing shape of the image to keep in a format of gray scale image"
   ]
  },
  {
   "cell_type": "code",
   "execution_count": 0,
   "metadata": {
    "colab": {},
    "colab_type": "code",
    "id": "dkmprriw9AnZ"
   },
   "outputs": [],
   "source": [
    "X_train = X_train.reshape(X_train.shape[0], 28, 28,1)\n",
    "X_test = X_test.reshape(X_test.shape[0], 28, 28,1)"
   ]
  },
  {
   "cell_type": "markdown",
   "metadata": {},
   "source": [
    "### Convert the data to float data type"
   ]
  },
  {
   "cell_type": "code",
   "execution_count": 0,
   "metadata": {
    "colab": {},
    "colab_type": "code",
    "id": "X2m4YS4E9CRh"
   },
   "outputs": [],
   "source": [
    "X_train = X_train.astype('float32')\n",
    "X_test = X_test.astype('float32')\n",
    "X_train /= 255\n",
    "X_test /= 255"
   ]
  },
  {
   "cell_type": "code",
   "execution_count": 7,
   "metadata": {
    "colab": {
     "base_uri": "https://localhost:8080/",
     "height": 34
    },
    "colab_type": "code",
    "id": "0Mn0vAYD9DvB",
    "outputId": "a37881f1-587f-4d6d-e21a-ded6065da2c2"
   },
   "outputs": [
    {
     "data": {
      "text/plain": [
       "array([5, 0, 4, 1, 9, 2, 1, 3, 1, 4], dtype=uint8)"
      ]
     },
     "execution_count": 7,
     "metadata": {
      "tags": []
     },
     "output_type": "execute_result"
    }
   ],
   "source": [
    "y_train[:10]"
   ]
  },
  {
   "cell_type": "markdown",
   "metadata": {},
   "source": [
    "### One hot encoding"
   ]
  },
  {
   "cell_type": "code",
   "execution_count": 0,
   "metadata": {
    "colab": {},
    "colab_type": "code",
    "id": "ZG8JiXR39FHC"
   },
   "outputs": [],
   "source": [
    "# Convert 1-dimensional class arrays to 10-dimensional class matrices\n",
    "Y_train = np_utils.to_categorical(y_train, 10)\n",
    "Y_test = np_utils.to_categorical(y_test, 10)"
   ]
  },
  {
   "cell_type": "code",
   "execution_count": 9,
   "metadata": {
    "colab": {
     "base_uri": "https://localhost:8080/",
     "height": 187
    },
    "colab_type": "code",
    "id": "fYlFRvKS9HMB",
    "outputId": "c7eb5091-78fa-4b60-b304-5e5909b87cc5"
   },
   "outputs": [
    {
     "data": {
      "text/plain": [
       "array([[0., 0., 0., 0., 0., 1., 0., 0., 0., 0.],\n",
       "       [1., 0., 0., 0., 0., 0., 0., 0., 0., 0.],\n",
       "       [0., 0., 0., 0., 1., 0., 0., 0., 0., 0.],\n",
       "       [0., 1., 0., 0., 0., 0., 0., 0., 0., 0.],\n",
       "       [0., 0., 0., 0., 0., 0., 0., 0., 0., 1.],\n",
       "       [0., 0., 1., 0., 0., 0., 0., 0., 0., 0.],\n",
       "       [0., 1., 0., 0., 0., 0., 0., 0., 0., 0.],\n",
       "       [0., 0., 0., 1., 0., 0., 0., 0., 0., 0.],\n",
       "       [0., 1., 0., 0., 0., 0., 0., 0., 0., 0.],\n",
       "       [0., 0., 0., 0., 1., 0., 0., 0., 0., 0.]], dtype=float32)"
      ]
     },
     "execution_count": 9,
     "metadata": {
      "tags": []
     },
     "output_type": "execute_result"
    }
   ],
   "source": [
    "Y_train[:10]\n"
   ]
  },
  {
   "cell_type": "markdown",
   "metadata": {},
   "source": [
    "## Buliding model"
   ]
  },
  {
   "cell_type": "markdown",
   "metadata": {},
   "source": [
    "This code chunk creates sequential model by stacking convolutions to build CNN.\n",
    "\n",
    "Following is the shape of the channels layer-wise :\n",
    "\n",
    "28x28x1 | 3x3x1x10 -> 26x26x10\n",
    "\n",
    "26x26x10 | 3x3x10x16 -> 24x24x16\n",
    "\n",
    "24x24x16 | 3x3x16x24 -> 22x22x24\n",
    "\n",
    "22x22x24 ---- Max Pooling ----> 11x11x24\n",
    "\n",
    "11x11x24 | 3x3x24x16 -> 9x9x16\n",
    "\n",
    "9x9x16 | 3x3x16x24 -> 7x7x24\n",
    "\n",
    "7x7x24 | 3x3x24x24 -> 5x5x24\n",
    "\n",
    "5x5x24 | 1x1x24x10 -> 5x5x10\n",
    "\n",
    "5x5x10 | 5x5x10x10 -> 1x1x10"
   ]
  },
  {
   "cell_type": "markdown",
   "metadata": {},
   "source": [
    "- Here we first reached a network where we have desired number of parameters and accuracy was near 99%, then we played with the number of kernels. \n",
    "\n",
    "- we found that 16 and 24 were enough number of kernels for this dataset, so we started with the minimum number of kernels required and then went ahead to increase it till 24\n",
    "\n",
    "**NOTE** :\n",
    "\n",
    "We haven't used 1x1 kernel or BN or DropOuts here.\n",
    "\n",
    "Without them we are able to reach the accuracy of 99.27% with around 19k params"
   ]
  },
  {
   "cell_type": "code",
   "execution_count": 134,
   "metadata": {
    "colab": {
     "base_uri": "https://localhost:8080/",
     "height": 207
    },
    "colab_type": "code",
    "id": "osKqT73Q9JJB",
    "outputId": "407fa0b4-e24d-4ac9-8a59-691a2a16b890"
   },
   "outputs": [
    {
     "name": "stderr",
     "output_type": "stream",
     "text": [
      "/usr/local/lib/python3.6/dist-packages/ipykernel_launcher.py:6: UserWarning: Update your `Conv2D` call to the Keras 2 API: `Conv2D(10, (3, 3), activation=\"relu\", input_shape=(28, 28, 1...)`\n",
      "  \n",
      "/usr/local/lib/python3.6/dist-packages/ipykernel_launcher.py:7: UserWarning: Update your `Conv2D` call to the Keras 2 API: `Conv2D(16, (3, 3), activation=\"relu\")`\n",
      "  import sys\n",
      "/usr/local/lib/python3.6/dist-packages/ipykernel_launcher.py:8: UserWarning: Update your `Conv2D` call to the Keras 2 API: `Conv2D(24, (3, 3), activation=\"relu\")`\n",
      "  \n",
      "/usr/local/lib/python3.6/dist-packages/ipykernel_launcher.py:12: UserWarning: Update your `Conv2D` call to the Keras 2 API: `Conv2D(16, (3, 3), activation=\"relu\")`\n",
      "  if sys.path[0] == '':\n",
      "/usr/local/lib/python3.6/dist-packages/ipykernel_launcher.py:21: UserWarning: Update your `Conv2D` call to the Keras 2 API: `Conv2D(24, (3, 3), activation=\"relu\")`\n",
      "/usr/local/lib/python3.6/dist-packages/ipykernel_launcher.py:22: UserWarning: Update your `Conv2D` call to the Keras 2 API: `Conv2D(24, (3, 3), activation=\"relu\")`\n"
     ]
    }
   ],
   "source": [
    "from keras.layers import Activation, MaxPooling2D\n",
    "\n",
    "model = Sequential()\n",
    "\n",
    " \n",
    "model.add(Convolution2D(10, 3, 3, activation='relu', input_shape=(28,28,1)))\n",
    "model.add(Convolution2D(16, 3, 3, activation='relu'))\n",
    "model.add(Convolution2D(24, 3, 3, activation='relu'))\n",
    "\n",
    "model.add(MaxPooling2D(pool_size=(2, 2)))\n",
    "\n",
    "model.add(Convolution2D(16, 3, 3, activation='relu'))\n",
    "#model.add(MaxPooling2D(pool_size=(2, 2)))\n",
    "model.add(Convolution2D(24, 3, 3, activation='relu'))\n",
    "model.add(Convolution2D(24, 3, 3, activation='relu'))\n",
    "#model.add(Convolution2D(32, 3, 3, activation='relu'))\n",
    "#model.add(Convolution2D(16, 3, 3, activation='relu'))\n",
    "#model.add(Convolution2D(16, 3, 3, activation='relu'))\n",
    "\n",
    "model.add(Convolution2D(10,1, activation='relu'))\n",
    "model.add(Convolution2D(10, 5))\n",
    "\n",
    "model.add(Flatten())\n",
    "model.add(Activation('softmax'))"
   ]
  },
  {
   "cell_type": "code",
   "execution_count": 135,
   "metadata": {
    "colab": {
     "base_uri": "https://localhost:8080/",
     "height": 510
    },
    "colab_type": "code",
    "id": "TzdAYg1k9K7Z",
    "outputId": "49c12d1a-6210-47ef-9163-a1d48f323c8d"
   },
   "outputs": [
    {
     "name": "stdout",
     "output_type": "stream",
     "text": [
      "_________________________________________________________________\n",
      "Layer (type)                 Output Shape              Param #   \n",
      "=================================================================\n",
      "conv2d_307 (Conv2D)          (None, 26, 26, 10)        100       \n",
      "_________________________________________________________________\n",
      "conv2d_308 (Conv2D)          (None, 24, 24, 16)        1456      \n",
      "_________________________________________________________________\n",
      "conv2d_309 (Conv2D)          (None, 22, 22, 24)        3480      \n",
      "_________________________________________________________________\n",
      "max_pooling2d_36 (MaxPooling (None, 11, 11, 24)        0         \n",
      "_________________________________________________________________\n",
      "conv2d_310 (Conv2D)          (None, 9, 9, 16)          3472      \n",
      "_________________________________________________________________\n",
      "conv2d_311 (Conv2D)          (None, 7, 7, 24)          3480      \n",
      "_________________________________________________________________\n",
      "conv2d_312 (Conv2D)          (None, 5, 5, 24)          5208      \n",
      "_________________________________________________________________\n",
      "conv2d_313 (Conv2D)          (None, 5, 5, 10)          250       \n",
      "_________________________________________________________________\n",
      "conv2d_314 (Conv2D)          (None, 1, 1, 10)          2510      \n",
      "_________________________________________________________________\n",
      "flatten_31 (Flatten)         (None, 10)                0         \n",
      "_________________________________________________________________\n",
      "activation_31 (Activation)   (None, 10)                0         \n",
      "=================================================================\n",
      "Total params: 19,956\n",
      "Trainable params: 19,956\n",
      "Non-trainable params: 0\n",
      "_________________________________________________________________\n"
     ]
    }
   ],
   "source": [
    "model.summary()"
   ]
  },
  {
   "cell_type": "markdown",
   "metadata": {},
   "source": [
    "## Compile the model"
   ]
  },
  {
   "cell_type": "markdown",
   "metadata": {},
   "source": [
    "- loss function : categorical_crossentropy\n",
    "\n",
    "- optimiser : Adam\n",
    "\n",
    "- metric type : Accuracy (here)"
   ]
  },
  {
   "cell_type": "code",
   "execution_count": 0,
   "metadata": {
    "colab": {},
    "colab_type": "code",
    "id": "Zp6SuGrL9M3h"
   },
   "outputs": [],
   "source": [
    "model.compile(loss='categorical_crossentropy',\n",
    "             optimizer='adam',\n",
    "             metrics=['accuracy'])"
   ]
  },
  {
   "cell_type": "markdown",
   "metadata": {},
   "source": [
    "## model.fit()"
   ]
  },
  {
   "cell_type": "markdown",
   "metadata": {},
   "source": [
    "- trains the model for a given number of epocs (to iterate entire dataset)\n",
    "\n",
    "- batch size refers to number of images to consider while each traversal through image"
   ]
  },
  {
   "cell_type": "code",
   "execution_count": 137,
   "metadata": {
    "colab": {
     "base_uri": "https://localhost:8080/",
     "height": 578
    },
    "colab_type": "code",
    "id": "4xWoKhPY9Of5",
    "outputId": "73793929-2378-4fbb-db17-7cc73c5c29a1"
   },
   "outputs": [
    {
     "name": "stderr",
     "output_type": "stream",
     "text": [
      "/usr/local/lib/python3.6/dist-packages/ipykernel_launcher.py:1: UserWarning: The `nb_epoch` argument in `fit` has been renamed `epochs`.\n",
      "  \"\"\"Entry point for launching an IPython kernel.\n"
     ]
    },
    {
     "name": "stdout",
     "output_type": "stream",
     "text": [
      "Epoch 1/15\n",
      "60000/60000 [==============================] - 17s 278us/step - loss: 0.2347 - acc: 0.9253\n",
      "Epoch 2/15\n",
      "60000/60000 [==============================] - 13s 217us/step - loss: 0.0735 - acc: 0.9776\n",
      "Epoch 3/15\n",
      "60000/60000 [==============================] - 13s 222us/step - loss: 0.0534 - acc: 0.9833\n",
      "Epoch 4/15\n",
      "60000/60000 [==============================] - 13s 221us/step - loss: 0.0441 - acc: 0.9863\n",
      "Epoch 5/15\n",
      "60000/60000 [==============================] - 13s 223us/step - loss: 0.0372 - acc: 0.9888\n",
      "Epoch 6/15\n",
      "60000/60000 [==============================] - 13s 214us/step - loss: 0.0331 - acc: 0.9897\n",
      "Epoch 7/15\n",
      "60000/60000 [==============================] - 13s 221us/step - loss: 0.0280 - acc: 0.9910\n",
      "Epoch 8/15\n",
      "60000/60000 [==============================] - 14s 237us/step - loss: 0.0259 - acc: 0.9915\n",
      "Epoch 9/15\n",
      "60000/60000 [==============================] - 15s 247us/step - loss: 0.0210 - acc: 0.9929\n",
      "Epoch 10/15\n",
      "60000/60000 [==============================] - 14s 240us/step - loss: 0.0198 - acc: 0.9937\n",
      "Epoch 11/15\n",
      "60000/60000 [==============================] - 15s 244us/step - loss: 0.0184 - acc: 0.9939\n",
      "Epoch 12/15\n",
      "60000/60000 [==============================] - 15s 248us/step - loss: 0.0164 - acc: 0.9947\n",
      "Epoch 13/15\n",
      "60000/60000 [==============================] - 16s 264us/step - loss: 0.0145 - acc: 0.9955\n",
      "Epoch 14/15\n",
      "60000/60000 [==============================] - 15s 258us/step - loss: 0.0145 - acc: 0.9955\n",
      "Epoch 15/15\n",
      "60000/60000 [==============================] - 15s 246us/step - loss: 0.0135 - acc: 0.9956\n"
     ]
    },
    {
     "data": {
      "text/plain": [
       "<keras.callbacks.History at 0x7fcea69a6860>"
      ]
     },
     "execution_count": 137,
     "metadata": {
      "tags": []
     },
     "output_type": "execute_result"
    }
   ],
   "source": [
    "model.fit(X_train, Y_train, batch_size=32, nb_epoch=15, verbose=1)"
   ]
  },
  {
   "cell_type": "markdown",
   "metadata": {},
   "source": [
    "## Evaluating the model"
   ]
  },
  {
   "cell_type": "markdown",
   "metadata": {},
   "source": [
    "- returns loss value and metrics of test data"
   ]
  },
  {
   "cell_type": "code",
   "execution_count": 0,
   "metadata": {
    "colab": {},
    "colab_type": "code",
    "id": "AtsH-lLk-eLb"
   },
   "outputs": [],
   "source": [
    "score = model.evaluate(X_test, Y_test, verbose=0)"
   ]
  },
  {
   "cell_type": "code",
   "execution_count": 139,
   "metadata": {
    "colab": {
     "base_uri": "https://localhost:8080/",
     "height": 34
    },
    "colab_type": "code",
    "id": "mkX8JMv79q9r",
    "outputId": "2d14d28b-4aaa-43c1-e810-e32691d11714"
   },
   "outputs": [
    {
     "name": "stdout",
     "output_type": "stream",
     "text": [
      "[0.028581020020806865, 0.9927]\n"
     ]
    }
   ],
   "source": [
    "print(score)"
   ]
  },
  {
   "cell_type": "code",
   "execution_count": 0,
   "metadata": {
    "colab": {},
    "colab_type": "code",
    "id": "OCWoJkwE9suh"
   },
   "outputs": [],
   "source": [
    "y_pred = model.predict(X_test)"
   ]
  },
  {
   "cell_type": "code",
   "execution_count": 141,
   "metadata": {
    "colab": {
     "base_uri": "https://localhost:8080/",
     "height": 493
    },
    "colab_type": "code",
    "id": "Ym7iCFBm9uBs",
    "outputId": "0f3c7ea1-27c4-4acc-ddfb-12bbce375d3c"
   },
   "outputs": [
    {
     "name": "stdout",
     "output_type": "stream",
     "text": [
      "[[6.61382309e-18 8.63243158e-12 5.05267906e-07 6.99316383e-10\n",
      "  5.53528023e-09 5.90691450e-13 7.64915531e-22 9.99999523e-01\n",
      "  4.47513120e-13 7.02858660e-10]\n",
      " [8.03120948e-09 3.23897957e-08 1.00000000e+00 1.60219732e-12\n",
      "  1.32666500e-09 1.87441986e-16 6.25115781e-09 3.26181248e-12\n",
      "  5.28972283e-11 1.30241192e-14]\n",
      " [1.63648062e-16 9.99998569e-01 3.37986594e-09 7.10371920e-13\n",
      "  2.57482313e-10 4.93224295e-10 8.99650487e-09 1.46660489e-06\n",
      "  4.68569794e-10 1.71588004e-13]\n",
      " [9.99898911e-01 1.29752123e-12 4.33322498e-08 6.80865364e-10\n",
      "  4.08198364e-09 2.34200446e-08 4.12102854e-05 5.39257215e-11\n",
      "  5.96534082e-05 2.27515997e-07]\n",
      " [2.07382667e-10 1.09492558e-12 2.73100813e-08 4.56928449e-17\n",
      "  9.99998093e-01 3.37985911e-12 3.66744341e-13 4.84799917e-14\n",
      "  1.32334397e-13 1.90998526e-06]\n",
      " [6.44383576e-15 9.99999166e-01 3.87100627e-08 3.73179569e-12\n",
      "  4.22386209e-10 1.51196472e-10 9.48998213e-09 8.44938484e-07\n",
      "  5.00023090e-09 2.82683751e-12]\n",
      " [8.61717719e-17 7.82736890e-07 2.35530024e-07 1.74939763e-09\n",
      "  9.97671425e-01 1.40833322e-07 1.25209972e-16 3.12790216e-05\n",
      "  9.67631877e-07 2.29516695e-03]\n",
      " [1.98378206e-11 1.63856909e-16 8.09147996e-13 1.53569310e-11\n",
      "  9.56055857e-08 2.21668306e-09 1.15693604e-14 1.50336410e-11\n",
      "  1.19421539e-09 9.99999881e-01]\n",
      " [7.23855775e-16 1.59875523e-16 3.90730897e-08 5.58340368e-14\n",
      "  4.01765635e-18 9.57341254e-01 4.26587872e-02 1.07023626e-19\n",
      "  1.17011645e-08 1.31561224e-08]]\n",
      "[7 2 1 0 4 1 4 9 5]\n"
     ]
    }
   ],
   "source": [
    "print(y_pred[:9])\n",
    "print(y_test[:9])"
   ]
  },
  {
   "cell_type": "code",
   "execution_count": 0,
   "metadata": {
    "colab": {},
    "colab_type": "code",
    "id": "CT--y98_dr2T"
   },
   "outputs": [],
   "source": [
    "layer_dict = dict([(layer.name, layer) for layer in model.layers])"
   ]
  },
  {
   "cell_type": "markdown",
   "metadata": {},
   "source": [
    "## Visualization of the outputs of the kernels just before the last layer"
   ]
  },
  {
   "cell_type": "code",
   "execution_count": 144,
   "metadata": {
    "colab": {
     "base_uri": "https://localhost:8080/",
     "height": 837
    },
    "colab_type": "code",
    "id": "2GY4Upv4dsUR",
    "outputId": "d0caa098-cda9-44a1-b0f8-1dee6a0e7b13"
   },
   "outputs": [
    {
     "data": {
      "image/png": "[encoded data removed]",
      "text/plain": [
       "<Figure size 864x864 with 24 Axes>"
      ]
     },
     "metadata": {
      "tags": []
     },
     "output_type": "display_data"
    }
   ],
   "source": [
    "import numpy as np\n",
    "from matplotlib import pyplot as plt\n",
    "from keras import backend as K\n",
    "%matplotlib inline\n",
    "# util function to convert a tensor into a valid image\n",
    "def deprocess_image(x):\n",
    "    # normalize tensor: center on 0., ensure std is 0.1\n",
    "    x -= x.mean()\n",
    "    x /= (x.std() + 1e-5)\n",
    "    x *= 0.1\n",
    "\n",
    "    # clip to [0, 1]\n",
    "    x += 0.5\n",
    "    x = np.clip(x, 0, 1)\n",
    "\n",
    "    # convert to RGB array\n",
    "    x *= 255\n",
    "    #x = x.transpose((1, 2, 0))\n",
    "    x = np.clip(x, 0, 255).astype('uint8')\n",
    "    return x\n",
    "\n",
    "def vis_img_in_filter(img = np.array(X_train[2]).reshape((1, 28, 28, 1)).astype(np.float64), \n",
    "                      layer_name = 'conv2d_312'):\n",
    "    layer_output = layer_dict[layer_name].output\n",
    "    img_ascs = list()\n",
    "    for filter_index in range(layer_output.shape[3]):\n",
    "        # build a loss function that maximizes the activation\n",
    "        # of the nth filter of the layer considered\n",
    "        loss = K.mean(layer_output[:, :, :, filter_index])\n",
    "\n",
    "        # compute the gradient of the input picture wrt this loss\n",
    "        grads = K.gradients(loss, model.input)[0]\n",
    "\n",
    "        # normalization trick: we normalize the gradient\n",
    "        grads /= (K.sqrt(K.mean(K.square(grads))) + 1e-5)\n",
    "\n",
    "        # this function returns the loss and grads given the input picture\n",
    "        iterate = K.function([model.input], [loss, grads])\n",
    "\n",
    "        # step size for gradient ascent\n",
    "        step = 5.\n",
    "\n",
    "        img_asc = np.array(img)\n",
    "        # run gradient ascent for 20 steps\n",
    "        for i in range(20):\n",
    "            loss_value, grads_value = iterate([img_asc])\n",
    "            img_asc += grads_value * step\n",
    "\n",
    "        img_asc = img_asc[0]\n",
    "        img_ascs.append(deprocess_image(img_asc).reshape((28, 28)))\n",
    "        \n",
    "    if layer_output.shape[3] >= 35:\n",
    "        plot_x, plot_y = 6, 6\n",
    "    elif layer_output.shape[3] >= 23:\n",
    "        plot_x, plot_y = 4, 6\n",
    "    elif layer_output.shape[3] >= 11:\n",
    "        plot_x, plot_y = 2, 6\n",
    "    else:\n",
    "        plot_x, plot_y = 1, 2\n",
    "    fig, ax = plt.subplots(plot_x, plot_y, figsize = (12, 12))\n",
    "    ax[0, 0].imshow(img.reshape((28, 28)), cmap = 'gray')\n",
    "    ax[0, 0].set_title('Input image')\n",
    "    fig.suptitle('Input image and %s filters' % (layer_name,))\n",
    "    fig.tight_layout(pad = 0.3, rect = [0, 0, 0.9, 0.9])\n",
    "    for (x, y) in [(i, j) for i in range(plot_x) for j in range(plot_y)]:\n",
    "        if x == 0 and y == 0:\n",
    "            continue\n",
    "        ax[x, y].imshow(img_ascs[x * plot_y + y - 1], cmap = 'gray')\n",
    "        ax[x, y].set_title('filter %d' % (x * plot_y + y - 1))\n",
    "\n",
    "vis_img_in_filter()"
   ]
  },
  {
   "cell_type": "code",
   "execution_count": 0,
   "metadata": {
    "colab": {},
    "colab_type": "code",
    "id": "9tvptcn8dxvp"
   },
   "outputs": [],
   "source": []
  }
 ],
 "metadata": {
  "accelerator": "GPU",
  "colab": {
   "collapsed_sections": [],
   "name": "1st DNN.ipynb",
   "provenance": [],
   "version": "0.3.2"
  },
  "kernelspec": {
   "display_name": "Python 3",
   "language": "python",
   "name": "python3"
  },
  "language_info": {
   "codemirror_mode": {
    "name": "ipython",
    "version": 3
   },
   "file_extension": ".py",
   "mimetype": "text/x-python",
   "name": "python",
   "nbconvert_exporter": "python",
   "pygments_lexer": "ipython3",
   "version": "3.6.6"
  }
 },
 "nbformat": 4,
 "nbformat_minor": 1
}
